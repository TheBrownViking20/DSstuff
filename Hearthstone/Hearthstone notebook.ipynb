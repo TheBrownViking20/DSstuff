{
 "cells": [
  {
   "cell_type": "code",
   "execution_count": 1,
   "metadata": {},
   "outputs": [],
   "source": [
    "# Importing Libraries\n",
    "import numpy as np\n",
    "import pandas as pd\n",
    "import matplotlib.pyplot as plt\n",
    "import seaborn as sns\n",
    "sns.set_style('whitegrid')\n",
    "%matplotlib inline\n",
    "\n",
    "# Importing data1\n",
    "decks = pd.read_csv('data.csv')\n",
    "cards = pd.read_json('refs.json')"
   ]
  },
  {
   "cell_type": "code",
   "execution_count": 2,
   "metadata": {},
   "outputs": [
    {
     "data": {
      "text/html": [
       "<div>\n",
       "<style>\n",
       "    .dataframe thead tr:only-child th {\n",
       "        text-align: right;\n",
       "    }\n",
       "\n",
       "    .dataframe thead th {\n",
       "        text-align: left;\n",
       "    }\n",
       "\n",
       "    .dataframe tbody tr th {\n",
       "        vertical-align: top;\n",
       "    }\n",
       "</style>\n",
       "<table border=\"1\" class=\"dataframe\">\n",
       "  <thead>\n",
       "    <tr style=\"text-align: right;\">\n",
       "      <th></th>\n",
       "      <th>craft_cost</th>\n",
       "      <th>date</th>\n",
       "      <th>deck_archetype</th>\n",
       "      <th>deck_class</th>\n",
       "      <th>deck_format</th>\n",
       "      <th>deck_id</th>\n",
       "      <th>deck_set</th>\n",
       "      <th>deck_type</th>\n",
       "      <th>rating</th>\n",
       "      <th>title</th>\n",
       "      <th>...</th>\n",
       "      <th>card_20</th>\n",
       "      <th>card_21</th>\n",
       "      <th>card_22</th>\n",
       "      <th>card_23</th>\n",
       "      <th>card_24</th>\n",
       "      <th>card_25</th>\n",
       "      <th>card_26</th>\n",
       "      <th>card_27</th>\n",
       "      <th>card_28</th>\n",
       "      <th>card_29</th>\n",
       "    </tr>\n",
       "  </thead>\n",
       "  <tbody>\n",
       "    <tr>\n",
       "      <th>0</th>\n",
       "      <td>9740</td>\n",
       "      <td>2016-02-19</td>\n",
       "      <td>Unknown</td>\n",
       "      <td>Priest</td>\n",
       "      <td>W</td>\n",
       "      <td>433004</td>\n",
       "      <td>Explorers</td>\n",
       "      <td>Tavern Brawl</td>\n",
       "      <td>1</td>\n",
       "      <td>Reno Priest</td>\n",
       "      <td>...</td>\n",
       "      <td>374</td>\n",
       "      <td>2280</td>\n",
       "      <td>2511</td>\n",
       "      <td>2555</td>\n",
       "      <td>2566</td>\n",
       "      <td>2582</td>\n",
       "      <td>2683</td>\n",
       "      <td>2736</td>\n",
       "      <td>2568</td>\n",
       "      <td>2883</td>\n",
       "    </tr>\n",
       "    <tr>\n",
       "      <th>1</th>\n",
       "      <td>9840</td>\n",
       "      <td>2016-02-19</td>\n",
       "      <td>Unknown</td>\n",
       "      <td>Warrior</td>\n",
       "      <td>W</td>\n",
       "      <td>433003</td>\n",
       "      <td>Explorers</td>\n",
       "      <td>Ranked Deck</td>\n",
       "      <td>1</td>\n",
       "      <td>RoosterWarrior</td>\n",
       "      <td>...</td>\n",
       "      <td>1781</td>\n",
       "      <td>1781</td>\n",
       "      <td>2021</td>\n",
       "      <td>2021</td>\n",
       "      <td>2064</td>\n",
       "      <td>2064</td>\n",
       "      <td>2078</td>\n",
       "      <td>2510</td>\n",
       "      <td>2729</td>\n",
       "      <td>2736</td>\n",
       "    </tr>\n",
       "    <tr>\n",
       "      <th>2</th>\n",
       "      <td>2600</td>\n",
       "      <td>2016-02-19</td>\n",
       "      <td>Unknown</td>\n",
       "      <td>Mage</td>\n",
       "      <td>W</td>\n",
       "      <td>433002</td>\n",
       "      <td>Explorers</td>\n",
       "      <td>Theorycraft</td>\n",
       "      <td>1</td>\n",
       "      <td>Annoying</td>\n",
       "      <td>...</td>\n",
       "      <td>1793</td>\n",
       "      <td>1801</td>\n",
       "      <td>1801</td>\n",
       "      <td>2037</td>\n",
       "      <td>2037</td>\n",
       "      <td>2064</td>\n",
       "      <td>2064</td>\n",
       "      <td>2078</td>\n",
       "      <td>38710</td>\n",
       "      <td>38710</td>\n",
       "    </tr>\n",
       "    <tr>\n",
       "      <th>3</th>\n",
       "      <td>15600</td>\n",
       "      <td>2016-02-19</td>\n",
       "      <td>Unknown</td>\n",
       "      <td>Warrior</td>\n",
       "      <td>W</td>\n",
       "      <td>433001</td>\n",
       "      <td>Explorers</td>\n",
       "      <td>None</td>\n",
       "      <td>0</td>\n",
       "      <td>Standart pay to win warrior</td>\n",
       "      <td>...</td>\n",
       "      <td>1657</td>\n",
       "      <td>1721</td>\n",
       "      <td>2018</td>\n",
       "      <td>2296</td>\n",
       "      <td>2262</td>\n",
       "      <td>336</td>\n",
       "      <td>2729</td>\n",
       "      <td>2729</td>\n",
       "      <td>2736</td>\n",
       "      <td>2760</td>\n",
       "    </tr>\n",
       "    <tr>\n",
       "      <th>4</th>\n",
       "      <td>7700</td>\n",
       "      <td>2016-02-19</td>\n",
       "      <td>Unknown</td>\n",
       "      <td>Paladin</td>\n",
       "      <td>W</td>\n",
       "      <td>432997</td>\n",
       "      <td>Explorers</td>\n",
       "      <td>Ranked Deck</td>\n",
       "      <td>1</td>\n",
       "      <td>Palamix</td>\n",
       "      <td>...</td>\n",
       "      <td>2027</td>\n",
       "      <td>2029</td>\n",
       "      <td>2029</td>\n",
       "      <td>2064</td>\n",
       "      <td>2078</td>\n",
       "      <td>374</td>\n",
       "      <td>2717</td>\n",
       "      <td>2717</td>\n",
       "      <td>2889</td>\n",
       "      <td>2889</td>\n",
       "    </tr>\n",
       "  </tbody>\n",
       "</table>\n",
       "<p>5 rows × 41 columns</p>\n",
       "</div>"
      ],
      "text/plain": [
       "   craft_cost        date deck_archetype deck_class deck_format  deck_id  \\\n",
       "0        9740  2016-02-19        Unknown     Priest           W   433004   \n",
       "1        9840  2016-02-19        Unknown    Warrior           W   433003   \n",
       "2        2600  2016-02-19        Unknown       Mage           W   433002   \n",
       "3       15600  2016-02-19        Unknown    Warrior           W   433001   \n",
       "4        7700  2016-02-19        Unknown    Paladin           W   432997   \n",
       "\n",
       "    deck_set     deck_type  rating                        title   ...     \\\n",
       "0  Explorers  Tavern Brawl       1                  Reno Priest   ...      \n",
       "1  Explorers   Ranked Deck       1               RoosterWarrior   ...      \n",
       "2  Explorers   Theorycraft       1                     Annoying   ...      \n",
       "3  Explorers          None       0  Standart pay to win warrior   ...      \n",
       "4  Explorers   Ranked Deck       1                      Palamix   ...      \n",
       "\n",
       "  card_20  card_21  card_22  card_23  card_24  card_25  card_26  card_27  \\\n",
       "0     374     2280     2511     2555     2566     2582     2683     2736   \n",
       "1    1781     1781     2021     2021     2064     2064     2078     2510   \n",
       "2    1793     1801     1801     2037     2037     2064     2064     2078   \n",
       "3    1657     1721     2018     2296     2262      336     2729     2729   \n",
       "4    2027     2029     2029     2064     2078      374     2717     2717   \n",
       "\n",
       "   card_28  card_29  \n",
       "0     2568     2883  \n",
       "1     2729     2736  \n",
       "2    38710    38710  \n",
       "3     2736     2760  \n",
       "4     2889     2889  \n",
       "\n",
       "[5 rows x 41 columns]"
      ]
     },
     "execution_count": 2,
     "metadata": {},
     "output_type": "execute_result"
    }
   ],
   "source": [
    "decks.head()"
   ]
  },
  {
   "cell_type": "code",
   "execution_count": 3,
   "metadata": {},
   "outputs": [
    {
     "name": "stdout",
     "output_type": "stream",
     "text": [
      "<class 'pandas.core.frame.DataFrame'>\n",
      "RangeIndex: 346232 entries, 0 to 346231\n",
      "Data columns (total 41 columns):\n",
      "craft_cost        346232 non-null int64\n",
      "date              346232 non-null object\n",
      "deck_archetype    346232 non-null object\n",
      "deck_class        346232 non-null object\n",
      "deck_format       346232 non-null object\n",
      "deck_id           346232 non-null int64\n",
      "deck_set          346232 non-null object\n",
      "deck_type         346232 non-null object\n",
      "rating            346232 non-null int64\n",
      "title             346224 non-null object\n",
      "user              346232 non-null object\n",
      "card_0            346232 non-null int64\n",
      "card_1            346232 non-null int64\n",
      "card_2            346232 non-null int64\n",
      "card_3            346232 non-null int64\n",
      "card_4            346232 non-null int64\n",
      "card_5            346232 non-null int64\n",
      "card_6            346232 non-null int64\n",
      "card_7            346232 non-null int64\n",
      "card_8            346232 non-null int64\n",
      "card_9            346232 non-null int64\n",
      "card_10           346232 non-null int64\n",
      "card_11           346232 non-null int64\n",
      "card_12           346232 non-null int64\n",
      "card_13           346232 non-null int64\n",
      "card_14           346232 non-null int64\n",
      "card_15           346232 non-null int64\n",
      "card_16           346232 non-null int64\n",
      "card_17           346232 non-null int64\n",
      "card_18           346232 non-null int64\n",
      "card_19           346232 non-null int64\n",
      "card_20           346232 non-null int64\n",
      "card_21           346232 non-null int64\n",
      "card_22           346232 non-null int64\n",
      "card_23           346232 non-null int64\n",
      "card_24           346232 non-null int64\n",
      "card_25           346232 non-null int64\n",
      "card_26           346232 non-null int64\n",
      "card_27           346232 non-null int64\n",
      "card_28           346232 non-null int64\n",
      "card_29           346232 non-null int64\n",
      "dtypes: int64(33), object(8)\n",
      "memory usage: 108.3+ MB\n"
     ]
    }
   ],
   "source": [
    "decks.info()"
   ]
  },
  {
   "cell_type": "code",
   "execution_count": 4,
   "metadata": {},
   "outputs": [
    {
     "data": {
      "text/html": [
       "<div>\n",
       "<style>\n",
       "    .dataframe thead tr:only-child th {\n",
       "        text-align: right;\n",
       "    }\n",
       "\n",
       "    .dataframe thead th {\n",
       "        text-align: left;\n",
       "    }\n",
       "\n",
       "    .dataframe tbody tr th {\n",
       "        vertical-align: top;\n",
       "    }\n",
       "</style>\n",
       "<table border=\"1\" class=\"dataframe\">\n",
       "  <thead>\n",
       "    <tr style=\"text-align: right;\">\n",
       "      <th></th>\n",
       "      <th>craft_cost</th>\n",
       "      <th>deck_id</th>\n",
       "      <th>rating</th>\n",
       "      <th>card_0</th>\n",
       "      <th>card_1</th>\n",
       "      <th>card_2</th>\n",
       "      <th>card_3</th>\n",
       "      <th>card_4</th>\n",
       "      <th>card_5</th>\n",
       "      <th>card_6</th>\n",
       "      <th>...</th>\n",
       "      <th>card_20</th>\n",
       "      <th>card_21</th>\n",
       "      <th>card_22</th>\n",
       "      <th>card_23</th>\n",
       "      <th>card_24</th>\n",
       "      <th>card_25</th>\n",
       "      <th>card_26</th>\n",
       "      <th>card_27</th>\n",
       "      <th>card_28</th>\n",
       "      <th>card_29</th>\n",
       "    </tr>\n",
       "  </thead>\n",
       "  <tbody>\n",
       "    <tr>\n",
       "      <th>count</th>\n",
       "      <td>346232.000000</td>\n",
       "      <td>346232.000000</td>\n",
       "      <td>346232.000000</td>\n",
       "      <td>346232.000000</td>\n",
       "      <td>346232.000000</td>\n",
       "      <td>346232.000000</td>\n",
       "      <td>346232.000000</td>\n",
       "      <td>346232.000000</td>\n",
       "      <td>346232.000000</td>\n",
       "      <td>346232.000000</td>\n",
       "      <td>...</td>\n",
       "      <td>346232.000000</td>\n",
       "      <td>346232.000000</td>\n",
       "      <td>346232.000000</td>\n",
       "      <td>346232.000000</td>\n",
       "      <td>346232.000000</td>\n",
       "      <td>346232.000000</td>\n",
       "      <td>346232.000000</td>\n",
       "      <td>346232.000000</td>\n",
       "      <td>346232.000000</td>\n",
       "      <td>346232.000000</td>\n",
       "    </tr>\n",
       "    <tr>\n",
       "      <th>mean</th>\n",
       "      <td>5645.360218</td>\n",
       "      <td>394152.425798</td>\n",
       "      <td>2.687230</td>\n",
       "      <td>166.555443</td>\n",
       "      <td>215.682814</td>\n",
       "      <td>328.068948</td>\n",
       "      <td>388.254399</td>\n",
       "      <td>465.439497</td>\n",
       "      <td>530.422084</td>\n",
       "      <td>618.649576</td>\n",
       "      <td>...</td>\n",
       "      <td>6676.817657</td>\n",
       "      <td>7879.285156</td>\n",
       "      <td>9310.508977</td>\n",
       "      <td>10780.480210</td>\n",
       "      <td>12401.890674</td>\n",
       "      <td>13709.898080</td>\n",
       "      <td>15068.109406</td>\n",
       "      <td>15955.823881</td>\n",
       "      <td>19239.277147</td>\n",
       "      <td>20537.999847</td>\n",
       "    </tr>\n",
       "    <tr>\n",
       "      <th>std</th>\n",
       "      <td>3927.986295</td>\n",
       "      <td>222605.617140</td>\n",
       "      <td>22.117751</td>\n",
       "      <td>515.546751</td>\n",
       "      <td>549.163776</td>\n",
       "      <td>609.109069</td>\n",
       "      <td>629.218897</td>\n",
       "      <td>710.534945</td>\n",
       "      <td>813.475129</td>\n",
       "      <td>987.250288</td>\n",
       "      <td>...</td>\n",
       "      <td>12610.593768</td>\n",
       "      <td>13750.165455</td>\n",
       "      <td>14885.066464</td>\n",
       "      <td>15862.422929</td>\n",
       "      <td>16731.209629</td>\n",
       "      <td>17295.441879</td>\n",
       "      <td>17766.351821</td>\n",
       "      <td>18039.395857</td>\n",
       "      <td>18567.676290</td>\n",
       "      <td>18686.462303</td>\n",
       "    </tr>\n",
       "    <tr>\n",
       "      <th>min</th>\n",
       "      <td>0.000000</td>\n",
       "      <td>18.000000</td>\n",
       "      <td>0.000000</td>\n",
       "      <td>8.000000</td>\n",
       "      <td>8.000000</td>\n",
       "      <td>8.000000</td>\n",
       "      <td>8.000000</td>\n",
       "      <td>8.000000</td>\n",
       "      <td>8.000000</td>\n",
       "      <td>8.000000</td>\n",
       "      <td>...</td>\n",
       "      <td>8.000000</td>\n",
       "      <td>8.000000</td>\n",
       "      <td>8.000000</td>\n",
       "      <td>8.000000</td>\n",
       "      <td>8.000000</td>\n",
       "      <td>8.000000</td>\n",
       "      <td>8.000000</td>\n",
       "      <td>8.000000</td>\n",
       "      <td>8.000000</td>\n",
       "      <td>8.000000</td>\n",
       "    </tr>\n",
       "    <tr>\n",
       "      <th>25%</th>\n",
       "      <td>2720.000000</td>\n",
       "      <td>216721.500000</td>\n",
       "      <td>1.000000</td>\n",
       "      <td>64.000000</td>\n",
       "      <td>75.000000</td>\n",
       "      <td>189.000000</td>\n",
       "      <td>237.000000</td>\n",
       "      <td>279.000000</td>\n",
       "      <td>304.000000</td>\n",
       "      <td>401.000000</td>\n",
       "      <td>...</td>\n",
       "      <td>1158.000000</td>\n",
       "      <td>1363.000000</td>\n",
       "      <td>1659.000000</td>\n",
       "      <td>1783.000000</td>\n",
       "      <td>1794.000000</td>\n",
       "      <td>1913.000000</td>\n",
       "      <td>2010.000000</td>\n",
       "      <td>2037.000000</td>\n",
       "      <td>2078.000000</td>\n",
       "      <td>2095.000000</td>\n",
       "    </tr>\n",
       "    <tr>\n",
       "      <th>50%</th>\n",
       "      <td>5000.000000</td>\n",
       "      <td>406046.500000</td>\n",
       "      <td>1.000000</td>\n",
       "      <td>138.000000</td>\n",
       "      <td>180.000000</td>\n",
       "      <td>285.000000</td>\n",
       "      <td>315.000000</td>\n",
       "      <td>415.000000</td>\n",
       "      <td>475.000000</td>\n",
       "      <td>559.000000</td>\n",
       "      <td>...</td>\n",
       "      <td>1940.000000</td>\n",
       "      <td>2029.000000</td>\n",
       "      <td>2061.000000</td>\n",
       "      <td>2078.000000</td>\n",
       "      <td>2275.000000</td>\n",
       "      <td>2488.000000</td>\n",
       "      <td>2577.000000</td>\n",
       "      <td>2682.000000</td>\n",
       "      <td>2901.000000</td>\n",
       "      <td>3015.000000</td>\n",
       "    </tr>\n",
       "    <tr>\n",
       "      <th>75%</th>\n",
       "      <td>7740.000000</td>\n",
       "      <td>590820.500000</td>\n",
       "      <td>1.000000</td>\n",
       "      <td>238.000000</td>\n",
       "      <td>285.000000</td>\n",
       "      <td>421.000000</td>\n",
       "      <td>476.000000</td>\n",
       "      <td>605.000000</td>\n",
       "      <td>643.000000</td>\n",
       "      <td>763.000000</td>\n",
       "      <td>...</td>\n",
       "      <td>2610.000000</td>\n",
       "      <td>2736.000000</td>\n",
       "      <td>2890.000000</td>\n",
       "      <td>2958.000000</td>\n",
       "      <td>38391.000000</td>\n",
       "      <td>38526.000000</td>\n",
       "      <td>38727.000000</td>\n",
       "      <td>38833.000000</td>\n",
       "      <td>38918.000000</td>\n",
       "      <td>39034.000000</td>\n",
       "    </tr>\n",
       "    <tr>\n",
       "      <th>max</th>\n",
       "      <td>48000.000000</td>\n",
       "      <td>749548.000000</td>\n",
       "      <td>4016.000000</td>\n",
       "      <td>41409.000000</td>\n",
       "      <td>41409.000000</td>\n",
       "      <td>41609.000000</td>\n",
       "      <td>41409.000000</td>\n",
       "      <td>41409.000000</td>\n",
       "      <td>41609.000000</td>\n",
       "      <td>41609.000000</td>\n",
       "      <td>...</td>\n",
       "      <td>41609.000000</td>\n",
       "      <td>41609.000000</td>\n",
       "      <td>41609.000000</td>\n",
       "      <td>41609.000000</td>\n",
       "      <td>41609.000000</td>\n",
       "      <td>41609.000000</td>\n",
       "      <td>41841.000000</td>\n",
       "      <td>42146.000000</td>\n",
       "      <td>42146.000000</td>\n",
       "      <td>42146.000000</td>\n",
       "    </tr>\n",
       "  </tbody>\n",
       "</table>\n",
       "<p>8 rows × 33 columns</p>\n",
       "</div>"
      ],
      "text/plain": [
       "          craft_cost        deck_id         rating         card_0  \\\n",
       "count  346232.000000  346232.000000  346232.000000  346232.000000   \n",
       "mean     5645.360218  394152.425798       2.687230     166.555443   \n",
       "std      3927.986295  222605.617140      22.117751     515.546751   \n",
       "min         0.000000      18.000000       0.000000       8.000000   \n",
       "25%      2720.000000  216721.500000       1.000000      64.000000   \n",
       "50%      5000.000000  406046.500000       1.000000     138.000000   \n",
       "75%      7740.000000  590820.500000       1.000000     238.000000   \n",
       "max     48000.000000  749548.000000    4016.000000   41409.000000   \n",
       "\n",
       "              card_1         card_2         card_3         card_4  \\\n",
       "count  346232.000000  346232.000000  346232.000000  346232.000000   \n",
       "mean      215.682814     328.068948     388.254399     465.439497   \n",
       "std       549.163776     609.109069     629.218897     710.534945   \n",
       "min         8.000000       8.000000       8.000000       8.000000   \n",
       "25%        75.000000     189.000000     237.000000     279.000000   \n",
       "50%       180.000000     285.000000     315.000000     415.000000   \n",
       "75%       285.000000     421.000000     476.000000     605.000000   \n",
       "max     41409.000000   41609.000000   41409.000000   41409.000000   \n",
       "\n",
       "              card_5         card_6      ...              card_20  \\\n",
       "count  346232.000000  346232.000000      ...        346232.000000   \n",
       "mean      530.422084     618.649576      ...          6676.817657   \n",
       "std       813.475129     987.250288      ...         12610.593768   \n",
       "min         8.000000       8.000000      ...             8.000000   \n",
       "25%       304.000000     401.000000      ...          1158.000000   \n",
       "50%       475.000000     559.000000      ...          1940.000000   \n",
       "75%       643.000000     763.000000      ...          2610.000000   \n",
       "max     41609.000000   41609.000000      ...         41609.000000   \n",
       "\n",
       "             card_21        card_22        card_23        card_24  \\\n",
       "count  346232.000000  346232.000000  346232.000000  346232.000000   \n",
       "mean     7879.285156    9310.508977   10780.480210   12401.890674   \n",
       "std     13750.165455   14885.066464   15862.422929   16731.209629   \n",
       "min         8.000000       8.000000       8.000000       8.000000   \n",
       "25%      1363.000000    1659.000000    1783.000000    1794.000000   \n",
       "50%      2029.000000    2061.000000    2078.000000    2275.000000   \n",
       "75%      2736.000000    2890.000000    2958.000000   38391.000000   \n",
       "max     41609.000000   41609.000000   41609.000000   41609.000000   \n",
       "\n",
       "             card_25        card_26        card_27        card_28  \\\n",
       "count  346232.000000  346232.000000  346232.000000  346232.000000   \n",
       "mean    13709.898080   15068.109406   15955.823881   19239.277147   \n",
       "std     17295.441879   17766.351821   18039.395857   18567.676290   \n",
       "min         8.000000       8.000000       8.000000       8.000000   \n",
       "25%      1913.000000    2010.000000    2037.000000    2078.000000   \n",
       "50%      2488.000000    2577.000000    2682.000000    2901.000000   \n",
       "75%     38526.000000   38727.000000   38833.000000   38918.000000   \n",
       "max     41609.000000   41841.000000   42146.000000   42146.000000   \n",
       "\n",
       "             card_29  \n",
       "count  346232.000000  \n",
       "mean    20537.999847  \n",
       "std     18686.462303  \n",
       "min         8.000000  \n",
       "25%      2095.000000  \n",
       "50%      3015.000000  \n",
       "75%     39034.000000  \n",
       "max     42146.000000  \n",
       "\n",
       "[8 rows x 33 columns]"
      ]
     },
     "execution_count": 4,
     "metadata": {},
     "output_type": "execute_result"
    }
   ],
   "source": [
    "decks.describe()"
   ]
  },
  {
   "cell_type": "code",
   "execution_count": 5,
   "metadata": {},
   "outputs": [
    {
     "data": {
      "text/plain": [
       "5645.3602180041125"
      ]
     },
     "execution_count": 5,
     "metadata": {},
     "output_type": "execute_result"
    }
   ],
   "source": [
    "# First, we calculate the average cost to build a deck and also calculate standard deviation\n",
    "decks['craft_cost'].mean()"
   ]
  },
  {
   "cell_type": "code",
   "execution_count": 6,
   "metadata": {},
   "outputs": [
    {
     "data": {
      "text/plain": [
       "3927.9862950666275"
      ]
     },
     "execution_count": 6,
     "metadata": {},
     "output_type": "execute_result"
    }
   ],
   "source": [
    "decks['craft_cost'].std()\n"
   ]
  },
  {
   "cell_type": "code",
   "execution_count": 7,
   "metadata": {},
   "outputs": [
    {
     "data": {
      "text/plain": [
       "<matplotlib.axes._subplots.AxesSubplot at 0x20ff064ac88>"
      ]
     },
     "execution_count": 7,
     "metadata": {},
     "output_type": "execute_result"
    },
    {
     "data": {
      "image/png": "[encoded data removed]",
      "text/plain": [
       "<matplotlib.figure.Figure at 0x20ff064cb70>"
      ]
     },
     "metadata": {},
     "output_type": "display_data"
    }
   ],
   "source": [
    "# Plot bar graph of value counts of different classes\n",
    "decks['deck_class'].value_counts().plot.bar()"
   ]
  },
  {
   "cell_type": "code",
   "execution_count": 8,
   "metadata": {},
   "outputs": [
    {
     "name": "stdout",
     "output_type": "stream",
     "text": [
      "Priest -->> 19756\n",
      "Warrior -->> 20644\n",
      "Mage -->> 17257\n",
      "Paladin -->> 21421\n",
      "Warlock -->> 15739\n",
      "Rogue -->> 16509\n",
      "Druid -->> 18528\n",
      "Shaman -->> 13235\n",
      "Hunter -->> 6836\n"
     ]
    }
   ],
   "source": [
    "# Now we count decks by class with above average craft cost\n",
    "for i in decks['deck_class'].unique():\n",
    "    print(i,end=\" -->> \")\n",
    "    print(decks['craft_cost'][decks['deck_class'] == i][decks['craft_cost'] > int(decks['craft_cost'].mean())].count())"
   ]
  },
  {
   "cell_type": "code",
   "execution_count": null,
   "metadata": {},
   "outputs": [
    {
     "data": {
      "text/plain": [
       "<matplotlib.axes._subplots.AxesSubplot at 0x20ff065c7f0>"
      ]
     },
     "execution_count": 9,
     "metadata": {},
     "output_type": "execute_result"
    },
    {
     "data": {
      "image/png": "[encoded data removed]",
      "text/plain": [
       "<matplotlib.figure.Figure at 0x20ff0660c50>"
      ]
     },
     "metadata": {},
     "output_type": "display_data"
    }
   ],
   "source": [
    "# Plot bar graph of value counts of different deck types\n",
    "decks['deck_type'].value_counts().plot.bar()"
   ]
  },
  {
   "cell_type": "code",
   "execution_count": null,
   "metadata": {},
   "outputs": [
    {
     "name": "stdout",
     "output_type": "stream",
     "text": [
      "Priest : \n"
     ]
    },
    {
     "data": {
      "image/png": "[encoded data removed]",
      "text/plain": [
       "<matplotlib.figure.Figure at 0x20fe0f3b710>"
      ]
     },
     "metadata": {},
     "output_type": "display_data"
    },
    {
     "name": "stdout",
     "output_type": "stream",
     "text": [
      "Warrior : \n"
     ]
    },
    {
     "data": {
      "image/png": "[encoded data removed]",
      "text/plain": [
       "<matplotlib.figure.Figure at 0x20fe6cc8c50>"
      ]
     },
     "metadata": {},
     "output_type": "display_data"
    },
    {
     "name": "stdout",
     "output_type": "stream",
     "text": [
      "Mage : \n"
     ]
    },
    {
     "data": {
      "image/png": "[encoded data removed]",
      "text/plain": [
       "<matplotlib.figure.Figure at 0x20fe6cdcc18>"
      ]
     },
     "metadata": {},
     "output_type": "display_data"
    },
    {
     "name": "stdout",
     "output_type": "stream",
     "text": [
      "Paladin : \n"
     ]
    },
    {
     "data": {
      "image/png": "[encoded data removed]",
      "text/plain": [
       "<matplotlib.figure.Figure at 0x20fe6d5d7b8>"
      ]
     },
     "metadata": {},
     "output_type": "display_data"
    }
   ],
   "source": [
    "# Plotting value counts of different archetypes of different classes\n",
    "for i in decks['deck_class'].unique():\n",
    "    print(i,end=\" : \\n\")\n",
    "    decks['deck_archetype'][decks['deck_archetype'] != 'Unknown'][decks['deck_class'] == i].value_counts().plot.bar()\n",
    "    plt.show()"
   ]
  },
  {
   "cell_type": "code",
   "execution_count": null,
   "metadata": {},
   "outputs": [],
   "source": [
    "# Comparing frequencies of different classes in different decks\n",
    "for i in decks['deck_set'].unique():\n",
    "    decks['deck_class'][decks['deck_set'] == i].value_counts().plot.line(label=i, figsize=(16,24))\n",
    "plt.legend(bbox_to_anchor=(1.04,1), loc=\"upper left\")\n",
    "plt.show()"
   ]
  },
  {
   "cell_type": "code",
   "execution_count": null,
   "metadata": {},
   "outputs": [],
   "source": [
    "# Most possessed 1000 cards in decks with frequency\n",
    "card_list = list(pd.concat([decks['card_0'],decks['card_1'],decks['card_2'],decks['card_3'],decks['card_4'],decks['card_5'],decks['card_6'],decks['card_7'],decks['card_8'],decks['card_9'],decks['card_10'],decks['card_11'],decks['card_12'],decks['card_13'],decks['card_14'],decks['card_15'],decks['card_16'],decks['card_17'],decks['card_18'],decks['card_19'],decks['card_20'],decks['card_21'],decks['card_22'],decks['card_23'],decks['card_24'],decks['card_25'],decks['card_26'],decks['card_27'],decks['card_28'],decks['card_29']]))\n",
    "from collections import Counter\n",
    "c = Counter(card_list)\n",
    "c1000 = c.most_common(1000)\n",
    "c1000 = pd.DataFrame(c1000)\n",
    "c1000.columns = ['Card ID','Frequency']"
   ]
  },
  {
   "cell_type": "code",
   "execution_count": null,
   "metadata": {},
   "outputs": [],
   "source": [
    "c1000.head()"
   ]
  },
  {
   "cell_type": "code",
   "execution_count": null,
   "metadata": {},
   "outputs": [],
   "source": [
    "c1000.tail()"
   ]
  },
  {
   "cell_type": "code",
   "execution_count": null,
   "metadata": {},
   "outputs": [],
   "source": [
    "# Most possessed 50 cards of each class\n",
    "for i in decks['deck_class'].unique():\n",
    "    print(i,end=\" : \\n\")\n",
    "    card_list = list(pd.concat([decks['card_0'][decks['deck_class'] == i],decks['card_1'][decks['deck_class'] == i],decks['card_2'][decks['deck_class'] == i],decks['card_3'][decks['deck_class'] == i],decks['card_4'][decks['deck_class'] == i],decks['card_5'][decks['deck_class'] == i],decks['card_6'][decks['deck_class'] == i],decks['card_7'][decks['deck_class'] == i],decks['card_8'][decks['deck_class'] == i],decks['card_9'][decks['deck_class'] == i],decks['card_10'][decks['deck_class'] == i],decks['card_11'][decks['deck_class'] == i],decks['card_12'][decks['deck_class'] == i],decks['card_13'][decks['deck_class'] == i],decks['card_14'][decks['deck_class'] == i],decks['card_15'][decks['deck_class'] == i],decks['card_16'][decks['deck_class'] == i],decks['card_17'][decks['deck_class'] == i],decks['card_18'][decks['deck_class'] == i],decks['card_19'][decks['deck_class'] == i],decks['card_20'][decks['deck_class'] == i],decks['card_21'][decks['deck_class'] == i],decks['card_22'][decks['deck_class'] == i],decks['card_23'][decks['deck_class'] == i],decks['card_24'][decks['deck_class'] == i],decks['card_25'][decks['deck_class'] == i],decks['card_26'][decks['deck_class'] == i],decks['card_27'][decks['deck_class'] == i],decks['card_28'][decks['deck_class'] == i],decks['card_29'][decks['deck_class'] == i]]))\n",
    "    from collections import Counter\n",
    "    c = Counter(card_list)\n",
    "    c50 = c.most_common(50)\n",
    "    c50 = pd.DataFrame(c50)\n",
    "    c50.columns = ['Card ID','Frequency']\n",
    "    print(c50)\n",
    "    print(\"\\n\")"
   ]
  },
  {
   "cell_type": "code",
   "execution_count": null,
   "metadata": {
    "collapsed": true
   },
   "outputs": [],
   "source": []
  }
 ],
 "metadata": {
  "kernelspec": {
   "display_name": "Python 3",
   "language": "python",
   "name": "python3"
  },
  "language_info": {
   "codemirror_mode": {
    "name": "ipython",
    "version": 3
   },
   "file_extension": ".py",
   "mimetype": "text/x-python",
   "name": "python",
   "nbconvert_exporter": "python",
   "pygments_lexer": "ipython3",
   "version": "3.6.1"
  }
 },
 "nbformat": 4,
 "nbformat_minor": 2
}
